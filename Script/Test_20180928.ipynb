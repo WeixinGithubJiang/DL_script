{
 "cells": [
  {
   "cell_type": "code",
   "execution_count": 1,
   "metadata": {},
   "outputs": [],
   "source": [
    "import os\n",
    "script_name = 'Test_20180928.ipynb'\n",
    "dir_path = os.path.dirname(os.path.realpath(script_name))\n",
    "parent_path = os.path.dirname(dir_path)\n",
    "Func_path = os.path.join(parent_path,'Func')\n",
    "\n",
    "import sys\n",
    "sys.path.append(Func_path)\n",
    "\n",
    "import matplotlib.pyplot as plt\n",
    "%matplotlib inline"
   ]
  },
  {
   "cell_type": "code",
   "execution_count": 2,
   "metadata": {},
   "outputs": [
    {
     "name": "stderr",
     "output_type": "stream",
     "text": [
      "Using TensorFlow backend.\n"
     ]
    }
   ],
   "source": [
    "from loading_data import DataLoader_base\n",
    "from building_network import NetworkBuild_base\n",
    "from run_network import NetworkRun_base\n",
    "from editing_network import NetworkEdit_base"
   ]
  },
  {
   "cell_type": "code",
   "execution_count": 3,
   "metadata": {},
   "outputs": [],
   "source": [
    "dataset = DataLoader_base(data_source=\"inside\",filename=\"cifar10\")"
   ]
  },
  {
   "cell_type": "code",
   "execution_count": 4,
   "metadata": {},
   "outputs": [
    {
     "name": "stdout",
     "output_type": "stream",
     "text": [
      "{'num_train': 50000, 'input_shape': (32, 32, 3), 'num_test': 10000, 'output_shape': (1,), 'dataset_name': 'cifar10', 'validation_status': True}\n"
     ]
    }
   ],
   "source": [
    "print(dataset.info)"
   ]
  },
  {
   "cell_type": "code",
   "execution_count": 5,
   "metadata": {},
   "outputs": [],
   "source": [
    "network = NetworkBuild_base(task=\"classification\", input_shape=[32,32,3], \n",
    "                            output_shape = 10, pre_train=False, net_name=\"VGG19\", customized_model=None)"
   ]
  },
  {
   "cell_type": "code",
   "execution_count": 6,
   "metadata": {
    "scrolled": true
   },
   "outputs": [
    {
     "name": "stdout",
     "output_type": "stream",
     "text": [
      "_________________________________________________________________\n",
      "Layer (type)                 Output Shape              Param #   \n",
      "=================================================================\n",
      "conv2d_1 (Conv2D)            (None, 32, 32, 32)        896       \n",
      "_________________________________________________________________\n",
      "activation_1 (Activation)    (None, 32, 32, 32)        0         \n",
      "_________________________________________________________________\n",
      "conv2d_2 (Conv2D)            (None, 30, 30, 32)        9248      \n",
      "_________________________________________________________________\n",
      "activation_2 (Activation)    (None, 30, 30, 32)        0         \n",
      "_________________________________________________________________\n",
      "max_pooling2d_1 (MaxPooling2 (None, 15, 15, 32)        0         \n",
      "_________________________________________________________________\n",
      "dropout_1 (Dropout)          (None, 15, 15, 32)        0         \n",
      "_________________________________________________________________\n",
      "conv2d_3 (Conv2D)            (None, 15, 15, 64)        18496     \n",
      "_________________________________________________________________\n",
      "activation_3 (Activation)    (None, 15, 15, 64)        0         \n",
      "_________________________________________________________________\n",
      "conv2d_4 (Conv2D)            (None, 13, 13, 64)        36928     \n",
      "_________________________________________________________________\n",
      "activation_4 (Activation)    (None, 13, 13, 64)        0         \n",
      "_________________________________________________________________\n",
      "max_pooling2d_2 (MaxPooling2 (None, 6, 6, 64)          0         \n",
      "_________________________________________________________________\n",
      "dropout_2 (Dropout)          (None, 6, 6, 64)          0         \n",
      "_________________________________________________________________\n",
      "flatten_1 (Flatten)          (None, 2304)              0         \n",
      "_________________________________________________________________\n",
      "dense_1 (Dense)              (None, 512)               1180160   \n",
      "_________________________________________________________________\n",
      "activation_5 (Activation)    (None, 512)               0         \n",
      "_________________________________________________________________\n",
      "dropout_3 (Dropout)          (None, 512)               0         \n",
      "_________________________________________________________________\n",
      "dense_2 (Dense)              (None, 10)                5130      \n",
      "_________________________________________________________________\n",
      "activation_6 (Activation)    (None, 10)                0         \n",
      "=================================================================\n",
      "Total params: 1,250,858\n",
      "Trainable params: 1,250,858\n",
      "Non-trainable params: 0\n",
      "_________________________________________________________________\n",
      "None\n",
      "18\n"
     ]
    }
   ],
   "source": [
    "print(network.model.summary())\n",
    "print(len(network.model.layers))\n",
    "\n"
   ]
  },
  {
   "cell_type": "code",
   "execution_count": 7,
   "metadata": {},
   "outputs": [],
   "source": [
    "import keras\n",
    "dataset.output_train = keras.utils.to_categorical(dataset.output_train, network.output_shape)\n",
    "dataset.output_test = keras.utils.to_categorical(dataset.output_test, network.output_shape)\n",
    "dataset.input_train = dataset.input_train.astype('float32')\n",
    "dataset.input_test = dataset.input_test.astype('float32')\n",
    "dataset.input_train /= 255\n",
    "dataset.input_test /= 255"
   ]
  },
  {
   "cell_type": "code",
   "execution_count": 8,
   "metadata": {},
   "outputs": [
    {
     "name": "stdout",
     "output_type": "stream",
     "text": [
      "Epoch 1/2\n",
      "50000/50000 [==============================] - 14s 271us/step - loss: 0.0787\n",
      "Epoch 2/2\n",
      "50000/50000 [==============================] - 12s 245us/step - loss: 0.0649\n"
     ]
    }
   ],
   "source": [
    "train_model = NetworkRun_base(model=network.model, opt = keras.optimizers.SGD(lr=1), \n",
    "                              loss = keras.losses.mean_squared_error,\n",
    "                              input_train=dataset.input_train, output_train=dataset.output_train, \n",
    "                              batch_size=10,epochs=2)\n",
    "#                               save_dir=os.path.join(parent_path,\"SavedModel\"), model_name=\"cifar10_test.h5\")"
   ]
  },
  {
   "cell_type": "code",
   "execution_count": 9,
   "metadata": {},
   "outputs": [],
   "source": [
    "# scores = network.model.evaluate(dataset.input_test, dataset.output_test, verbose=1)\n",
    "# print(scores)"
   ]
  },
  {
   "cell_type": "code",
   "execution_count": 10,
   "metadata": {},
   "outputs": [
    {
     "name": "stdout",
     "output_type": "stream",
     "text": [
      "10000/10000 [==============================] - 1s 62us/step\n",
      "0.0583192792296\n"
     ]
    }
   ],
   "source": [
    "scores = train_model.model.evaluate(dataset.input_test, dataset.output_test, verbose=1)\n",
    "print(scores)"
   ]
  },
  {
   "cell_type": "code",
   "execution_count": 11,
   "metadata": {},
   "outputs": [],
   "source": [
    "network_copy = NetworkEdit_base(model = train_model.model)"
   ]
  },
  {
   "cell_type": "code",
   "execution_count": 12,
   "metadata": {},
   "outputs": [
    {
     "name": "stdout",
     "output_type": "stream",
     "text": [
      "10000/10000 [==============================] - 1s 90us/step\n",
      "0.0583192792296\n"
     ]
    }
   ],
   "source": [
    "scores = network_copy.model.evaluate(dataset.input_test, dataset.output_test, verbose=1)\n",
    "print(scores)"
   ]
  },
  {
   "cell_type": "code",
   "execution_count": 13,
   "metadata": {},
   "outputs": [],
   "source": [
    "save_dir=os.path.join(parent_path,\"SavedModel\")\n",
    "model_name=\"cifar10_test_2.h5\"\n",
    "architecture_name = \"cifar10_test_2.json\"\n",
    "weights_name = \"cifar10_test_weights_2.h5\""
   ]
  },
  {
   "cell_type": "code",
   "execution_count": 14,
   "metadata": {},
   "outputs": [
    {
     "name": "stdout",
     "output_type": "stream",
     "text": [
      "Save model at /home/weixin/Documents/MyProjects/DL_script/SavedModel/cifar10_test_2.h5 \n"
     ]
    }
   ],
   "source": [
    "network_copy.SaveModel(save_content=\"MODEL\", save_path=save_dir, save_filename=model_name)"
   ]
  },
  {
   "cell_type": "code",
   "execution_count": 15,
   "metadata": {},
   "outputs": [],
   "source": [
    "network_copy.SaveModel(save_content=\"ARCHITECTURE\", save_path=save_dir, save_filename=architecture_name)\n",
    "network_copy.SaveModel(save_content=\"WEIGHTS\", save_path=save_dir, save_filename=weights_name)"
   ]
  },
  {
   "cell_type": "code",
   "execution_count": 21,
   "metadata": {},
   "outputs": [],
   "source": [
    "del network_copy.model"
   ]
  },
  {
   "cell_type": "code",
   "execution_count": 17,
   "metadata": {
    "collapsed": true
   },
   "outputs": [
    {
     "name": "stdout",
     "output_type": "stream",
     "text": [
      "10000/10000 [==============================] - 1s 61us/step\n",
      "0.0583192792296\n"
     ]
    }
   ],
   "source": [
    "network_copy.LoadModel(load_content=\"MODEL\" ,load_path = os.path.join(save_dir,model_name))\n",
    "scores = network_copy.model.evaluate(dataset.input_test, dataset.output_test, verbose=1)\n",
    "print(scores)"
   ]
  },
  {
   "cell_type": "code",
   "execution_count": 24,
   "metadata": {},
   "outputs": [
    {
     "name": "stdout",
     "output_type": "stream",
     "text": [
      "10000/10000 [==============================] - 1s 75us/step\n",
      "0.0900145725965\n"
     ]
    }
   ],
   "source": [
    "network_copy.LoadModel(load_content=\"ARCHITECTURE\" ,load_path = os.path.join(save_dir,architecture_name))\n",
    "# network_copy.LoadModel(load_content=\"WEIGHTS\" ,load_path = os.path.join(save_dir,weights_name))\n",
    "network_copy.model.compile(keras.optimizers.SGD(lr=1), keras.losses.mean_squared_error)\n",
    "scores = network_copy.model.evaluate(dataset.input_test, dataset.output_test, verbose=1)\n",
    "print(scores)"
   ]
  },
  {
   "cell_type": "code",
   "execution_count": null,
   "metadata": {},
   "outputs": [],
   "source": [
    "from keras.models import load_model\n",
    "save_dir=os.path.join(parent_path,\"SavedModel\") model_name=\"cifar10_test.h5\"\n",
    "model = load_model(os.path.join(train_model.save_dir,train_model.model_name))"
   ]
  },
  {
   "cell_type": "code",
   "execution_count": null,
   "metadata": {},
   "outputs": [],
   "source": [
    "tmp_model = Sequential()\n",
    "tmp_model.add(Input(shape=[224,224,500]))\n",
    "if network.model.output_shape[-1] == 512:\n",
    "    tmp_model.add(network.model.layers[-1])\n",
    "    network.model.layers.pop()"
   ]
  },
  {
   "cell_type": "code",
   "execution_count": null,
   "metadata": {},
   "outputs": [],
   "source": [
    "from keras.models import Model\n",
    "from keras.layers import Input\n",
    "sub_model_1 = Input(shape=[100,100,512])\n",
    "sub_model_2 = network.model.layers[-1]\n",
    "new_model = Model(inputs=sub_model_1,outputs=sub_model_2.output)\n",
    "print(new_model.summary())"
   ]
  },
  {
   "cell_type": "code",
   "execution_count": null,
   "metadata": {},
   "outputs": [],
   "source": [
    "dataset = DataLoader_base(data_source=\"inside\",filename=\"mnist\")"
   ]
  },
  {
   "cell_type": "code",
   "execution_count": null,
   "metadata": {},
   "outputs": [],
   "source": [
    "import keras\n",
    "from keras.models import Sequential\n",
    "from keras.layers import Dense, Dropout, Activation, Flatten\n",
    "from keras.layers import Conv2D, MaxPooling2D"
   ]
  },
  {
   "cell_type": "code",
   "execution_count": null,
   "metadata": {},
   "outputs": [],
   "source": [
    "\tdef BuildModel(input_shape,output_shape):\n",
    "\t\tmodel = Sequential()\n",
    "\t\tmodel.add(Conv2D(32, (3, 3), padding='same',\n",
    "                 input_shape=input_shape))\n",
    "\t\tmodel.add(Activation('relu'))\n",
    "\t\tmodel.add(Conv2D(32, (3, 3)))\n",
    "\t\tmodel.add(Activation('relu'))\n",
    "\t\tmodel.add(MaxPooling2D(pool_size=(2, 2)))\n",
    "\t\tmodel.add(Dropout(0.25))\n",
    "\n",
    "\t\tmodel.add(Conv2D(64, (3, 3), padding='same'))\n",
    "\t\tmodel.add(Activation('relu'))\n",
    "\t\tmodel.add(Conv2D(64, (3, 3)))\n",
    "\t\tmodel.add(Activation('relu'))\n",
    "\t\tmodel.add(MaxPooling2D(pool_size=(2, 2)))\n",
    "\t\tmodel.add(Dropout(0.25))\n",
    "\n",
    "\t\tmodel.add(Flatten())\n",
    "\t\tmodel.add(Dense(512))\n",
    "\t\tmodel.add(Activation('relu'))\n",
    "\t\tmodel.add(Dropout(0.5))\n",
    "\t\tmodel.add(Dense(output_shape))\n",
    "\t\tmodel.add(Activation('softmax'))\n",
    "\t\treturn model"
   ]
  },
  {
   "cell_type": "code",
   "execution_count": null,
   "metadata": {},
   "outputs": [],
   "source": [
    "del tmp\n",
    "tmp = BuildModel(network.input_shape,network.output_shape)"
   ]
  },
  {
   "cell_type": "code",
   "execution_count": null,
   "metadata": {},
   "outputs": [],
   "source": [
    "print(tmp.summary())"
   ]
  },
  {
   "cell_type": "code",
   "execution_count": null,
   "metadata": {},
   "outputs": [],
   "source": []
  }
 ],
 "metadata": {
  "kernelspec": {
   "display_name": "Python 3",
   "language": "python",
   "name": "python3"
  },
  "language_info": {
   "codemirror_mode": {
    "name": "ipython",
    "version": 3
   },
   "file_extension": ".py",
   "mimetype": "text/x-python",
   "name": "python",
   "nbconvert_exporter": "python",
   "pygments_lexer": "ipython3",
   "version": "3.5.0"
  }
 },
 "nbformat": 4,
 "nbformat_minor": 2
}
