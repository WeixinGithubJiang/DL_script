{
 "cells": [
  {
   "cell_type": "code",
   "execution_count": 25,
   "metadata": {},
   "outputs": [],
   "source": [
    "import keras\n",
    "from keras import backend as K\n",
    "K.set_image_dim_ordering('th')"
   ]
  },
  {
   "cell_type": "code",
   "execution_count": 29,
   "metadata": {},
   "outputs": [],
   "source": [
    "from keras.datasets import mnist\n",
    "from keras.datasets import cifar10\n",
    "from keras.utils import np_utils\n",
    "def data_loading(data_name,\n",
    "                 input_reshape=False,input_reshape_size = [3, 32, 32],\n",
    "                data_normalization=False,\n",
    "                class_categorical=False, class_num=10):\n",
    "    if data_name == \"cifar10\":\n",
    "        (X_train, y_train), (X_test, y_test) = cifar10.load_data()\n",
    "    elif data_name == \"mnist\":\n",
    "        (X_train, y_train), (X_test, y_test) = mnist.load_data()\n",
    "    \n",
    "    \n",
    "    \n",
    "    def data_reshape(X_train, X_test, input_channel, image_x, image_y):\n",
    "        X_train = X_train.reshape(X_train.shape[0],input_channel, image_x, image_y)\n",
    "        X_test = X_test.reshape(X_test.shape[0],input_channel, image_x, image_y)\n",
    "        return X_train,X_test\n",
    "    \n",
    "    def normalization(X_train, X_test):\n",
    "        X_train = X_train.astype('float32')\n",
    "        X_test = X_test.astype('float32')\n",
    "        X_train /= 255\n",
    "        X_test /= 255\n",
    "        return X_train,X_test\n",
    "    \n",
    "    def categorical(y_train,y_test,class_num):\n",
    "        Y_train = np_utils.to_categorical(y_train, class_num)\n",
    "        Y_test = np_utils.to_categorical(y_test, class_num)\n",
    "        return Y_train,Y_test\n",
    "    \n",
    "    if input_reshape:\n",
    "        X_train,X_test = data_reshape(X_train, X_test, \n",
    "                                      input_reshape_size[0], \n",
    "                                      input_reshape_size[1],\n",
    "                                      input_reshape_size[2],)\n",
    "        \n",
    "\n",
    "    if data_normalization:\n",
    "        X_train,X_test = normalization(X_train, X_test)\n",
    "        \n",
    "    if class_categorical:\n",
    "        y_train,y_test = categorical(y_train,y_test,class_num)\n",
    "    \n",
    "    return X_train,y_train,X_test,y_test\n",
    "\n",
    "\n",
    "def data_info(X_train,y_train,X_test,y_test):\n",
    "    assert X_train.shape[0] == y_train.shape[0]\n",
    "    assert X_test.shape[0] == y_test.shape[0]\n",
    "    assert X_train.shape[1:] == X_test.shape[1:]\n",
    "    assert y_train.shape[1:] == y_test.shape[1:]\n",
    "    info = {}\n",
    "    info[\"num_train\"] = X_train.shape[0]\n",
    "    info[\"num_test\"] = X_test.shape[0]\n",
    "    info[\"input_shape\"] = X_train.shape[1:]\n",
    "    info[\"output_shape\"] = y_train.shape[1:]\n",
    "    \n",
    "    return info"
   ]
  },
  {
   "cell_type": "code",
   "execution_count": 21,
   "metadata": {},
   "outputs": [],
   "source": [
    "from keras.applications.resnet50 import ResNet50\n",
    "from keras.applications.vgg16 import VGG16\n",
    "from keras.applications.vgg19 import VGG19\n",
    "from keras.preprocessing import image\n",
    "from keras.models import Sequential\n",
    "from keras.layers import Dense, Dropout, Activation, Flatten\n",
    "from keras.layers import Conv2D, MaxPooling2D\n",
    "\n",
    "def BuildNetwork(input_shape=[3,32,32],num_classes=10):\n",
    "    model = Sequential()\n",
    "    model.add(Conv2D(32, (3, 3), padding='same',\n",
    "                     input_shape=input_shape))\n",
    "    model.add(Activation('relu'))\n",
    "    model.add(Conv2D(32, (3, 3)))\n",
    "    model.add(Activation('relu'))\n",
    "    model.add(MaxPooling2D(pool_size=(2, 2)))\n",
    "    model.add(Dropout(0.25))\n",
    "\n",
    "    model.add(Conv2D(64, (3, 3), padding='same'))\n",
    "    model.add(Activation('relu'))\n",
    "    model.add(Conv2D(64, (3, 3)))\n",
    "    model.add(Activation('relu'))\n",
    "    model.add(MaxPooling2D(pool_size=(2, 2)))\n",
    "    model.add(Dropout(0.25))\n",
    "\n",
    "    model.add(Flatten())\n",
    "    model.add(Dense(512))\n",
    "    model.add(Activation('relu'))\n",
    "    model.add(Dropout(0.5))\n",
    "    model.add(Dense(num_classes))\n",
    "    model.add(Activation('softmax'))\n",
    "    return model"
   ]
  },
  {
   "cell_type": "code",
   "execution_count": 22,
   "metadata": {},
   "outputs": [
    {
     "name": "stdout",
     "output_type": "stream",
     "text": [
      "(None, 10)\n"
     ]
    }
   ],
   "source": [
    "model = BuildNetwork(input_shape=[3,32,32],num_classes=10)\n",
    "print(model.output_shape)"
   ]
  },
  {
   "cell_type": "code",
   "execution_count": 27,
   "metadata": {},
   "outputs": [],
   "source": [
    "opt = keras.optimizers.SGD(lr=0.01, decay=1e-6, momentum=0.9, nesterov=True)\n",
    "loss = \"categorical_crossentropy\"\n",
    "metric = [\"categorical_accuracy\"]\n",
    "model.compile(loss=loss,\n",
    "              optimizer=opt,\n",
    "              metrics=metric)\n"
   ]
  },
  {
   "cell_type": "code",
   "execution_count": 30,
   "metadata": {},
   "outputs": [
    {
     "name": "stdout",
     "output_type": "stream",
     "text": [
      "Train on 50000 samples, validate on 10000 samples\n",
      "Epoch 1/5\n",
      "50000/50000 [==============================] - 14s 284us/step - loss: 1.8196 - categorical_accuracy: 0.3278 - val_loss: 1.5821 - val_categorical_accuracy: 0.4160\n",
      "Epoch 2/5\n",
      "50000/50000 [==============================] - 14s 272us/step - loss: 1.6157 - categorical_accuracy: 0.4140 - val_loss: 1.5398 - val_categorical_accuracy: 0.4520\n",
      "Epoch 3/5\n",
      "50000/50000 [==============================] - 14s 282us/step - loss: 1.5997 - categorical_accuracy: 0.4229 - val_loss: 1.5125 - val_categorical_accuracy: 0.4634\n",
      "Epoch 4/5\n",
      "50000/50000 [==============================] - 15s 296us/step - loss: 1.6434 - categorical_accuracy: 0.4134 - val_loss: 1.5044 - val_categorical_accuracy: 0.4756\n",
      "Epoch 5/5\n",
      "50000/50000 [==============================] - 14s 288us/step - loss: 1.6641 - categorical_accuracy: 0.4068 - val_loss: 1.5904 - val_categorical_accuracy: 0.4352\n"
     ]
    },
    {
     "data": {
      "text/plain": [
       "<keras.callbacks.History at 0x7f2050e8c780>"
      ]
     },
     "execution_count": 30,
     "metadata": {},
     "output_type": "execute_result"
    }
   ],
   "source": [
    "X_train,y_train,X_test,y_test = data_loading(\"cifar10\",True,[3,32,32],True,True,10)\n",
    "model.fit(x=X_train,y=y_train,batch_size=10,epochs=5,verbose=1,validation_data=(X_test,y_test),shuffle=True)"
   ]
  },
  {
   "cell_type": "code",
   "execution_count": 41,
   "metadata": {},
   "outputs": [
    {
     "name": "stdout",
     "output_type": "stream",
     "text": [
      "(None, 512, 7, 7)\n",
      "(3, 3, 128, 128)\n"
     ]
    }
   ],
   "source": [
    "import numpy as np\n",
    "model = typical_net(\"VGG16\",False,[3,224,224],10)\n",
    "print(model.output_shape)\n",
    "weights = model.get_weights()\n",
    "print(weights[6].shape)"
   ]
  },
  {
   "cell_type": "code",
   "execution_count": 14,
   "metadata": {},
   "outputs": [],
   "source": [
    "X_train,y_train,X_test,y_test = data_loading(\"cifar10\",True,[3,32,32],True,True,10)\n",
    "info = data_info(X_train,y_train,X_test,y_test)"
   ]
  },
  {
   "cell_type": "code",
   "execution_count": 15,
   "metadata": {},
   "outputs": [
    {
     "name": "stdout",
     "output_type": "stream",
     "text": [
      "{'num_train': 60000, 'output_shape': (10,), 'num_test': 10000, 'input_shape': (1, 28, 28)}\n"
     ]
    }
   ],
   "source": [
    "print(info)"
   ]
  },
  {
   "cell_type": "code",
   "execution_count": 16,
   "metadata": {},
   "outputs": [],
   "source": [
    "import matplotlib.pyplot as plt\n",
    "%matplotlib inline"
   ]
  },
  {
   "cell_type": "code",
   "execution_count": 18,
   "metadata": {},
   "outputs": [
    {
     "data": {
      "text/plain": [
       "<matplotlib.image.AxesImage at 0x7f3d35c95668>"
      ]
     },
     "execution_count": 18,
     "metadata": {},
     "output_type": "execute_result"
    },
    {
     "data": {
      "image/png": "[encoded data removed]",
      "text/plain": [
       "<matplotlib.figure.Figure at 0x7f3d35cdba20>"
      ]
     },
     "metadata": {},
     "output_type": "display_data"
    }
   ],
   "source": [
    "plt.imshow(X_train[120,0])"
   ]
  },
  {
   "cell_type": "code",
   "execution_count": null,
   "metadata": {},
   "outputs": [],
   "source": []
  }
 ],
 "metadata": {
  "kernelspec": {
   "display_name": "Python 3",
   "language": "python",
   "name": "python3"
  },
  "language_info": {
   "codemirror_mode": {
    "name": "ipython",
    "version": 3
   },
   "file_extension": ".py",
   "mimetype": "text/x-python",
   "name": "python",
   "nbconvert_exporter": "python",
   "pygments_lexer": "ipython3",
   "version": "3.5.0"
  }
 },
 "nbformat": 4,
 "nbformat_minor": 2
}
